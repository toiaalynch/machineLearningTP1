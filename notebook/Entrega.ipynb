{
 "cells": [
  {
   "cell_type": "markdown",
   "metadata": {},
   "source": [
    "Preprocesamiento"
   ]
  },
  {
   "cell_type": "code",
   "execution_count": 35,
   "metadata": {},
   "outputs": [],
   "source": [
    "import numpy as np\n",
    "import sys\n",
    "import os\n",
    "\n",
    "# Agrega la ruta al directorio 'src' usando la ruta absoluta\n",
    "sys.path.append(os.path.abspath(os.path.join(os.getcwd(), '../src')))\n",
    "\n",
    "from preprocessing import preprocess_data\n"
   ]
  },
  {
   "cell_type": "code",
   "execution_count": 37,
   "metadata": {},
   "outputs": [],
   "source": [
    "\n",
    "# Cargar los datos de desarrollo y prueba\n",
    "dev_data = np.genfromtxt('../data/raw/toyota_dev.csv', delimiter=',', skip_header=1, dtype=str)\n",
    "test_data = np.genfromtxt('../data/raw/toyota_test.csv', delimiter=',', skip_header=1, dtype=str)\n",
    "\n",
    "# Realiza el preprocesamiento en los datos de desarrollo\n",
    "dev_data = preprocess_data(dev_data)\n",
    "\n",
    "# Realiza el preprocesamiento en los datos de prueba\n",
    "test_data = preprocess_data(test_data)\n",
    "\n",
    "# Guardar los datos preprocesados\n",
    "np.savetxt('../data/processed/toyota_dev_processed.csv', dev_data, delimiter=',', fmt='%s')\n",
    "np.savetxt('../data/processed/toyota_test_processed.csv', test_data, delimiter=',', fmt='%s')\n"
   ]
  }
 ],
 "metadata": {
  "kernelspec": {
   "display_name": ".venv",
   "language": "python",
   "name": "python3"
  },
  "language_info": {
   "codemirror_mode": {
    "name": "ipython",
    "version": 3
   },
   "file_extension": ".py",
   "mimetype": "text/x-python",
   "name": "python",
   "nbconvert_exporter": "python",
   "pygments_lexer": "ipython3",
   "version": "3.11.5"
  }
 },
 "nbformat": 4,
 "nbformat_minor": 2
}
