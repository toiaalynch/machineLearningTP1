{
 "cells": [
  {
   "cell_type": "markdown",
   "metadata": {},
   "source": [
    "Preprocesamiento"
   ]
  },
  {
   "cell_type": "code",
   "execution_count": 1,
   "metadata": {},
   "outputs": [
    {
     "name": "stdout",
     "output_type": "stream",
     "text": [
      "2.1.0\n"
     ]
    }
   ],
   "source": [
    "import numpy as np\n",
    "print(np.__version__)\n"
   ]
  },
  {
   "cell_type": "code",
   "execution_count": 4,
   "metadata": {},
   "outputs": [
    {
     "ename": "ModuleNotFoundError",
     "evalue": "No module named 'numpy'",
     "output_type": "error",
     "traceback": [
      "\u001b[0;31m---------------------------------------------------------------------------\u001b[0m",
      "\u001b[0;31mModuleNotFoundError\u001b[0m                       Traceback (most recent call last)",
      "Cell \u001b[0;32mIn[4], line 1\u001b[0m\n\u001b[0;32m----> 1\u001b[0m \u001b[38;5;28;01mimport\u001b[39;00m \u001b[38;5;21;01mnumpy\u001b[39;00m \u001b[38;5;28;01mas\u001b[39;00m \u001b[38;5;21;01mnp\u001b[39;00m\n\u001b[1;32m      2\u001b[0m \u001b[38;5;28;01mfrom\u001b[39;00m \u001b[38;5;21;01msrc\u001b[39;00m\u001b[38;5;21;01m.\u001b[39;00m\u001b[38;5;21;01mpreprocessing\u001b[39;00m \u001b[38;5;28;01mimport\u001b[39;00m handle_missing_values, one_hot_encoder, normalize\n\u001b[1;32m      4\u001b[0m \u001b[38;5;66;03m# Cargar los datos de desarrollo y prueba\u001b[39;00m\n",
      "\u001b[0;31mModuleNotFoundError\u001b[0m: No module named 'numpy'"
     ]
    }
   ],
   "source": [
    "from src.preprocessing import handle_missing_values, one_hot_encoder, normalize\n",
    "\n",
    "# Cargar los datos de desarrollo y prueba\n",
    "dev_data = np.genfromtxt('../data/raw/toyota_dev.csv', delimiter=',', skip_header=1)\n",
    "test_data = np.genfromtxt('../data/raw/toyota_test.csv', delimiter=',', skip_header=1)\n",
    "\n",
    "# Realiza el preprocesamiento en los datos de desarrollo\n",
    "dev_data = handle_missing_values(dev_data, strategy='mean', columns=[3, 7])\n",
    "dev_data = one_hot_encoder(dev_data, column_index=1)\n",
    "dev_data = normalize(dev_data, columns=[2, 7, 9])\n",
    "\n",
    "# Aplica el mismo preprocesamiento a los datos de prueba\n",
    "test_data = handle_missing_values(test_data, strategy='mean', columns=[3, 7])\n",
    "test_data = one_hot_encoder(test_data, column_index=1)\n",
    "test_data = normalize(test_data, columns=[2, 7, 9])\n",
    "\n",
    "# Guardar los datos preprocesados\n",
    "np.savetxt('../data/processed/toyota_dev_processed.csv', dev_data, delimiter=',', fmt='%s')\n",
    "np.savetxt('../data/processed/toyota_test_processed.csv', test_data, delimiter=',', fmt='%s')\n"
   ]
  },
  {
   "cell_type": "code",
   "execution_count": null,
   "metadata": {},
   "outputs": [],
   "source": []
  }
 ],
 "metadata": {
  "kernelspec": {
   "display_name": ".venv",
   "language": "python",
   "name": "python3"
  },
  "language_info": {
   "codemirror_mode": {
    "name": "ipython",
    "version": 3
   },
   "file_extension": ".py",
   "mimetype": "text/x-python",
   "name": "python",
   "nbconvert_exporter": "python",
   "pygments_lexer": "ipython3",
   "version": "3.11.5"
  }
 },
 "nbformat": 4,
 "nbformat_minor": 2
}
